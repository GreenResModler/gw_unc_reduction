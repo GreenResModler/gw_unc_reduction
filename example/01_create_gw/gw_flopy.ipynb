{
 "cells": [
  {
   "cell_type": "markdown",
   "id": "36673b57-9673-4d6b-b0cc-9467ce216233",
   "metadata": {},
   "source": [
    "<h1 style=\"text-align:center;\"><b>Developing the groundwater model</b></h1>\n",
    "\n",
    "This notebook creates the groundwater model using FloPy as the first step in implementing our workflow. The generated folder is used by other notebooks. Note that the \"**required**\" settings defined here are critical for the subsequent steps."
   ]
  },
  {
   "cell_type": "code",
   "execution_count": 1,
   "id": "6ec67d23-a121-40bd-bc36-c91661baaa22",
   "metadata": {},
   "outputs": [],
   "source": [
    "import os\n",
    "import numpy as np\n",
    "import flopy\n",
    "import shutil\n",
    "import pickle"
   ]
  },
  {
   "cell_type": "markdown",
   "id": "5995037d-1f9c-4320-925e-67490b17378b",
   "metadata": {},
   "source": [
    "The developed groundwater model is a modified version of the Freyberg (1988) model.\n",
    "Let's begin by importing input files."
   ]
  },
  {
   "cell_type": "code",
   "execution_count": 2,
   "id": "72bef560-6005-43f9-bb7c-12da2142ccfc",
   "metadata": {},
   "outputs": [],
   "source": [
    "# import modified inputs\n",
    "\n",
    "path_to_input = os.path.join('.', 'modfied_inputs')\n",
    "\n",
    "idomain_values = np.loadtxt(os.path.join(path_to_input, 'idomain.txt')) # original model domain\n",
    "idomain_values = idomain_values.astype(np.int32) # integers\n",
    "\n",
    "top_values = np.loadtxt(os.path.join(path_to_input, 'modf_top.txt'))    # modified topography\n",
    "\n",
    "botm_values = np.loadtxt(os.path.join(path_to_input, 'modf_botm.txt'))  # modified bottom\n",
    "botm_values = np.expand_dims(botm_values, axis=0) # convert to 3D\n",
    "\n",
    "strt_values = np.loadtxt(os.path.join(path_to_input, 'init_head.txt'))  # modified initial heads\n",
    "\n",
    "recharge_value = np.load(os.path.join(path_to_input, 'recharge.npy'), allow_pickle=True).item() # modified recharge values\n",
    "\n",
    "with open(os.path.join(path_to_input, 'ghb.pkl'), 'rb') as f:\n",
    "    ghb_data = pickle.load(f)    # modified GHB (General-Head Boundary)\n",
    "    \n",
    "with open(os.path.join(path_to_input, 'packagedata.pkl'), 'rb') as f:\n",
    "    packagedata = pickle.load(f) # modified SFR (Streamflow Routing)"
   ]
  },
  {
   "cell_type": "markdown",
   "id": "3ee14792-12ca-4914-ab2f-c3410947b7a9",
   "metadata": {},
   "source": [
    "Following cells define functions to create the model and write input files for MODFLOW 6."
   ]
  },
  {
   "cell_type": "code",
   "execution_count": 3,
   "id": "c6e0d4e5-a9bb-4251-a111-e1c02b1be731",
   "metadata": {},
   "outputs": [],
   "source": [
    "# define simulation\n",
    "\n",
    "sim_name = 'downsc_freyberg'\n",
    "sim_ws = os.path.join('paper_gw_model') # simulation work space. This generate a folder in the current directory.\n",
    "\n",
    "if os.path.exists(sim_ws):\n",
    "    shutil.rmtree(sim_ws)\n",
    "    \n",
    "sim = flopy.mf6.MFSimulation(sim_name=sim_name,\n",
    "                             sim_ws=sim_ws,\n",
    "                             exe_name='./mf6.exe', \n",
    "                             continue_=True)"
   ]
  },
  {
   "cell_type": "code",
   "execution_count": 4,
   "id": "4bb6ffa7-110b-4376-b843-ab32b87ce4d4",
   "metadata": {},
   "outputs": [],
   "source": [
    "# define simulation time\n",
    "\n",
    "nper = 25\n",
    "nstp = 1\n",
    "tsmult = 1.0\n",
    "length = [3652.5, 31.0, 29.0, 31.0, 30.0, 31.0, 30.0, 31.0, 31.0, 30.0, 31.0, 30.0, 31.0, 31.0, 28.0,\n",
    "          31.0, 30.0, 31.0, 30.0, 31.0, 31.0, 30.0, 31.0, 30.0, 31.0]\n",
    "\n",
    "perioddata_t= [(perlen, nstp, tsmult) for perlen in length]\n",
    "tdis = flopy.mf6.ModflowTdis(sim,\n",
    "                             nper=nper,\n",
    "                              perioddata=perioddata_t,\n",
    "                             time_units='days')"
   ]
  },
  {
   "cell_type": "code",
   "execution_count": 5,
   "id": "c3e1c08b-6896-4e72-947e-def9979a2f8f",
   "metadata": {},
   "outputs": [],
   "source": [
    "# define modelgrid (optional)\n",
    "\n",
    "nlay = 1\n",
    "nrow = 40\n",
    "ncol = 20\n",
    "dx = dy = 50.0\n",
    "delc_values = np.array(nrow * [dy])\n",
    "delr_values = np.array(ncol * [dx])\n",
    "\n",
    "modelgrid = flopy.discretization.StructuredGrid(nlay=nlay,\n",
    "                                                nrow=nrow,\n",
    "                                                ncol=ncol,\n",
    "                                                delr=delr_values,\n",
    "                                                delc=delc_values, \n",
    "                                                top=top_values,\n",
    "                                                botm=botm_values,\n",
    "                                                idomain=idomain_values)"
   ]
  },
  {
   "cell_type": "code",
   "execution_count": 6,
   "id": "a0b8cc2f-3b82-49c1-9e11-66fefb665ac1",
   "metadata": {},
   "outputs": [],
   "source": [
    "# define solver\n",
    "\n",
    "ims = flopy.mf6.ModflowIms(sim,\n",
    "                           print_option='SUMMARY',\n",
    "                           complexity='COMPLEX')"
   ]
  },
  {
   "cell_type": "code",
   "execution_count": 7,
   "id": "f050b6b1-becf-4cc7-bb35-1860464e0f9c",
   "metadata": {},
   "outputs": [],
   "source": [
    "# define the model\n",
    "\n",
    "gwf = flopy.mf6.ModflowGwf(sim,\n",
    "                           modelname=sim_name,\n",
    "                           save_flows=True,\n",
    "                           newtonoptions='newton')"
   ]
  },
  {
   "cell_type": "code",
   "execution_count": 8,
   "id": "041a44e6-9eb2-4cfa-bfd6-148f8367d66c",
   "metadata": {},
   "outputs": [],
   "source": [
    "# define discretization \n",
    "\n",
    "dis = flopy.mf6.ModflowGwfdis(gwf,\n",
    "                              nlay=nlay,\n",
    "                              nrow=nrow,\n",
    "                              ncol=ncol,\n",
    "                              delr=delr_values, \n",
    "                              delc=delc_values,\n",
    "                              top=top_values,\n",
    "                              botm=botm_values,\n",
    "                              length_units='METERS',\n",
    "                              idomain=idomain_values)\n",
    "dis.set_all_data_external()  # required"
   ]
  },
  {
   "cell_type": "code",
   "execution_count": 9,
   "id": "715f920c-b867-41d3-9283-e0479d28c6e0",
   "metadata": {},
   "outputs": [],
   "source": [
    "# define initial head\n",
    "\n",
    "ic = flopy.mf6.ModflowGwfic(gwf,\n",
    "                            strt=strt_values)\n",
    "ic.set_all_data_external()  # required"
   ]
  },
  {
   "cell_type": "markdown",
   "id": "f72395be-dfbd-42c9-97df-79f0060e05c5",
   "metadata": {},
   "source": [
    "In the following cells, the adjustable parameters can be set to their initial values, which are later used during the inversion process. \n",
    "Since here a synthetic model is used, hydraulic conductivity (k) and specific yield (sy) are set to their true value for a homogenous aquifer."
   ]
  },
  {
   "cell_type": "code",
   "execution_count": 10,
   "id": "011457ec-5e05-42d6-93a6-b621a2a99cb9",
   "metadata": {},
   "outputs": [],
   "source": [
    "# define hydraulic conductivity and aquifer type\n",
    "\n",
    "k_values = np.full((nlay, nrow, ncol), 8.0) \n",
    "icelltype_values = np.full((nlay, nrow, ncol), 1, dtype=int)\n",
    "\n",
    "npf = flopy.mf6.ModflowGwfnpf(gwf,\n",
    "                              save_specific_discharge=True,\n",
    "                              icelltype=icelltype_values,\n",
    "                              k=k_values)\n",
    "npf.set_all_data_external()  # required"
   ]
  },
  {
   "cell_type": "code",
   "execution_count": 11,
   "id": "9ebe62f5-2444-4db5-a021-18a2fc41cd7a",
   "metadata": {},
   "outputs": [],
   "source": [
    "# define storativity\n",
    "\n",
    "ss_values = np.full((nlay, nrow, ncol), 1E-06)\n",
    "sy_values = np.full((nlay, nrow, ncol), 0.25) \n",
    "iconvert_values = np.full((nlay, nrow, ncol), 1, dtype=int) \n",
    "\n",
    "steady_state = {0: True}\n",
    "transient = {i: True for i in range(1, 25)}\n",
    "\n",
    "sto = flopy.mf6.ModflowGwfsto(gwf, \n",
    "                              iconvert=iconvert_values, \n",
    "                              ss=ss_values,\n",
    "                              sy=sy_values, \n",
    "                              steady_state=steady_state,\n",
    "                              transient=transient)\n",
    "sto.set_all_data_external()  # required"
   ]
  },
  {
   "cell_type": "markdown",
   "id": "a37996a4-9b24-4286-84fd-522792c138b5",
   "metadata": {},
   "source": [
    "Over the next few cells, transient boundary conditions are defined. Instructions for adding the relevant packages are adapted from the MODFLOW 6 example documentation (https://modflow6-examples.readthedocs.io/en/master/introduction.html)."
   ]
  },
  {
   "cell_type": "code",
   "execution_count": 12,
   "id": "b49fb65d-c139-4da7-ad98-41d0eea6d6ef",
   "metadata": {},
   "outputs": [],
   "source": [
    "# define recharge (boundary condition)\n",
    "\n",
    "rch = flopy.mf6.ModflowGwfrcha(gwf, recharge=recharge_value)\n",
    "rch.set_all_data_external()  # required"
   ]
  },
  {
   "cell_type": "code",
   "execution_count": 13,
   "id": "8c094e4c-ec6c-491b-a24d-bd7563bd0f8a",
   "metadata": {},
   "outputs": [],
   "source": [
    "# define well (boundary condition)\n",
    "\n",
    "well_cells = [\n",
    "    [0, 9, 16],\n",
    "    [0, 11, 13],\n",
    "    [0, 20, 14],\n",
    "    [0, 26, 10],\n",
    "    [0, 29, 6],\n",
    "    [0, 34, 12],\n",
    "    [0, 24, 4]]\n",
    "\n",
    "well_data = {}\n",
    "for i in range(25):\n",
    "    data = []\n",
    "    if i == 1:\n",
    "        rate = -150.0\n",
    "        last_val = 0.0\n",
    "    elif i == 0:\n",
    "        continue \n",
    "    elif i in [11, 12, 13, 14, 15, 16, 17, 18, 19, 20, 21, 22, 23, 24]:\n",
    "        rate = -300.0\n",
    "        last_val = -550.0\n",
    "    else:\n",
    "        rate = -300.0\n",
    "        last_val = 0.0\n",
    "    for j, (a, b, c) in enumerate(well_cells):\n",
    "        if j == len(well_cells) - 1: \n",
    "            data.append([a, b, c, last_val])\n",
    "        else:\n",
    "            data.append([a, b, c, rate])\n",
    "    well_data[i] = data\n",
    "\n",
    "well = flopy.mf6.ModflowGwfwel(gwf, \n",
    "                                print_flows=True, \n",
    "                                print_input=True,\n",
    "                                save_flows=True,\n",
    "                                maxbound =7,\n",
    "                                stress_period_data=well_data)  \n",
    "well.set_all_data_external()  # required"
   ]
  },
  {
   "cell_type": "code",
   "execution_count": 14,
   "id": "2b303326-6a04-49e0-a3d8-90673b0a6f05",
   "metadata": {},
   "outputs": [],
   "source": [
    "# define general-head boundary (a boundary condition)\n",
    "\n",
    "ghb = flopy.mf6.ModflowGwfghb(gwf,\n",
    "                              stress_period_data=ghb_data,\n",
    "                              maxbound=30)\n",
    "ghb.set_all_data_external()  # required"
   ]
  },
  {
   "cell_type": "code",
   "execution_count": 15,
   "id": "74e06bbc-597c-43aa-a68d-6a0a15841656",
   "metadata": {},
   "outputs": [],
   "source": [
    "# define streamflow routing (boundary condition)\n",
    "\n",
    "perioddata = [(0, 'inflow', 500.0)]\n",
    "connectiondata = [[0, -1], [1, 0, -2], [2, 1, -3], [3, 2, -4], [4, 3, -5], [5, 4, -6], [6, 5, -7], [7, 6, -8], [8, 7, -9], [9, 8, -10], [10, 9, -11],\n",
    "                 [11, 10, -12], [12, 11, -13], [13, 12, -14], [14, 13, -15], [15, 14, -16], [16, 15, -17], [17, 16, -18], [18, 17, -19], [19, 18, -20],\n",
    "                 [20, 19, -21], [21, 20, -22], [22, 21, -23], [23, 22, -24], [24, 23, -25], [25, 24, -26], [26, 25, -27], [27, 26, -28], [28, 27, -29], \n",
    "                 [29, 28, -30], [30, 29, -31], [31, 30, -32], [32, 31, -33], [33, 32, -34], [34, 33, -35], [35, 34, -36], [36, 35, -37], [37, 36, -38],\n",
    "                 [38, 37, -39], [39, 38]]\n",
    "\n",
    "sfr = flopy.mf6.ModflowGwfsfr(gwf, \n",
    "                              boundnames=True,\n",
    "                              print_input=True,\n",
    "                              save_flows=True,\n",
    "                              maximum_depth_change=1E-04,\n",
    "                              unit_conversion=86400,\n",
    "                              nreaches=40, \n",
    "                              packagedata=packagedata,\n",
    "                              connectiondata=connectiondata,\n",
    "                              perioddata=perioddata)\n",
    "sfr.set_all_data_external(binary=False)  # required"
   ]
  },
  {
   "cell_type": "markdown",
   "id": "e9cf40ed-442f-4ba4-b21a-be0b85e483e1",
   "metadata": {},
   "source": [
    "**Note that in this cell, it is necessary to define \"head_filerecord\" and  its corresponding \"saverecord\".**"
   ]
  },
  {
   "cell_type": "code",
   "execution_count": 16,
   "id": "56596fa1-8661-4f18-9fb2-22f72ef5ae89",
   "metadata": {},
   "outputs": [],
   "source": [
    "# define outputs \n",
    "\n",
    "oc = flopy.mf6.ModflowGwfoc(gwf, \n",
    "                            head_filerecord=f\"{gwf.name}.hds\", # required\n",
    "                            budget_filerecord=f\"{gwf.name}.cbc\",\n",
    "                            saverecord=[(\"HEAD\", \"ALL\"), (\"BUDGET\", \"ALL\")], # required for head\n",
    "                            printrecord=[(\"BUDGET\", \"ALL\")]) "
   ]
  },
  {
   "cell_type": "markdown",
   "id": "814d2389-499c-46f7-be42-ed79022ac0ff",
   "metadata": {},
   "source": [
    "**Note that in this cell, it is necessary to define observation file(s) if hydrogeological observation(s) is assimilated and/or prediction (forcast) is made in the next steps of the workflow.**"
   ]
  },
  {
   "cell_type": "code",
   "execution_count": 17,
   "id": "c003837e-65cc-4167-9b13-52d7a9e953a5",
   "metadata": {},
   "outputs": [],
   "source": [
    "# define observation files\n",
    "\n",
    "digits = 10\n",
    "filename = f\"{sim_name}.obs\"\n",
    "continuous = {'heads.csv': [('trgw-0-2-15', 'HEAD', (0, 2, 15)), ('trgw-0-2-9', 'HEAD', (0, 2, 9)), ('trgw-0-3-8', 'HEAD', (0, 3, 8)),\n",
    "              ('trgw-0-9-1', 'HEAD', (0, 9, 1)), ('trgw-0-13-10', 'HEAD', (0, 13, 10)), ('trgw-0-15-16', 'HEAD', (0, 15, 16)),\n",
    "              ('trgw-0-21-10', 'HEAD', (0, 21, 10)), ('trgw-0-22-15', 'HEAD', (0, 22, 15)), ('trgw-0-24-4', 'HEAD', (0, 24, 4)),\n",
    "              ('trgw-0-26-6', 'HEAD', (0, 26, 6)), ('trgw-0-29-15', 'HEAD', (0, 29, 15)), ('trgw-0-33-7', 'HEAD', (0, 33, 7)),\n",
    "              ('trgw-0-34-10', 'HEAD', (0, 34, 10))]}\n",
    "\n",
    "obs_head = flopy.mf6.ModflowUtlobs(gwf, digits=digits, print_input=True, continuous=continuous) # if necessary"
   ]
  },
  {
   "cell_type": "markdown",
   "id": "f0781f4a-353a-4cc4-98d8-f169f02efadc",
   "metadata": {},
   "source": [
    "By runing the next step, generated files are stored in the sim_ws folder."
   ]
  },
  {
   "cell_type": "code",
   "execution_count": 18,
   "id": "a1fb26e6-59d5-4580-852b-e9ea3822e4e0",
   "metadata": {},
   "outputs": [
    {
     "name": "stdout",
     "output_type": "stream",
     "text": [
      "writing simulation...\n",
      "  writing simulation name file...\n",
      "  writing simulation tdis package...\n",
      "  writing solution package ims_-1...\n",
      "  writing model downsc_freyberg...\n",
      "    writing model name file...\n",
      "    writing package dis...\n",
      "    writing package ic...\n",
      "    writing package npf...\n",
      "    writing package sto...\n",
      "    writing package rcha_0...\n",
      "    writing package wel_0...\n",
      "    writing package ghb_0...\n",
      "    writing package sfr_0...\n",
      "    writing package oc...\n",
      "    writing package obs_0...\n",
      "FloPy is using the following executable to run the model: ..\\mf6.exe\n",
      "                                   MODFLOW 6\n",
      "                U.S. GEOLOGICAL SURVEY MODULAR HYDROLOGIC MODEL\n",
      "                   VERSION 6.3.0 release candidate 02/06/2022\n",
      "                               ***DEVELOP MODE***\n",
      "\n",
      "   MODFLOW 6 compiled Feb 06 2022 02:35:51 with Intel(R) Fortran Intel(R) 64\n",
      "   Compiler Classic for applications running on Intel(R) 64, Version 2021.5.0\n",
      "                             Build 20211109_000000\n",
      "\n",
      "This software is preliminary or provisional and is subject to \n",
      "revision. It is being provided to meet the need for timely best \n",
      "science. The software has not received final approval by the U.S. \n",
      "Geological Survey (USGS). No warranty, expressed or implied, is made \n",
      "by the USGS or the U.S. Government as to the functionality of the \n",
      "software and related material nor shall the fact of release \n",
      "constitute any such warranty. The software is provided on the \n",
      "condition that neither the USGS nor the U.S. Government shall be held \n",
      "liable for any damages resulting from the authorized or unauthorized \n",
      "use of the software.\n",
      "\n",
      " \n",
      " Run start date and time (yyyy/mm/dd hh:mm:ss): 2025/07/29 22:12:26\n",
      " \n",
      " Writing simulation list file: mfsim.lst\n",
      " Using Simulation name file: mfsim.nam\n",
      " \n",
      "    Solving:  Stress period:     1    Time step:     1\n",
      "    Solving:  Stress period:     2    Time step:     1\n",
      "    Solving:  Stress period:     3    Time step:     1\n",
      "    Solving:  Stress period:     4    Time step:     1\n",
      "    Solving:  Stress period:     5    Time step:     1\n",
      "    Solving:  Stress period:     6    Time step:     1\n",
      "    Solving:  Stress period:     7    Time step:     1\n",
      "    Solving:  Stress period:     8    Time step:     1\n",
      "    Solving:  Stress period:     9    Time step:     1\n",
      "    Solving:  Stress period:    10    Time step:     1\n",
      "    Solving:  Stress period:    11    Time step:     1\n",
      "    Solving:  Stress period:    12    Time step:     1\n",
      "    Solving:  Stress period:    13    Time step:     1\n",
      "    Solving:  Stress period:    14    Time step:     1\n",
      "    Solving:  Stress period:    15    Time step:     1\n",
      "    Solving:  Stress period:    16    Time step:     1\n",
      "    Solving:  Stress period:    17    Time step:     1\n",
      "    Solving:  Stress period:    18    Time step:     1\n",
      "    Solving:  Stress period:    19    Time step:     1\n",
      "    Solving:  Stress period:    20    Time step:     1\n",
      "    Solving:  Stress period:    21    Time step:     1\n",
      "    Solving:  Stress period:    22    Time step:     1\n",
      "    Solving:  Stress period:    23    Time step:     1\n",
      "    Solving:  Stress period:    24    Time step:     1\n",
      "    Solving:  Stress period:    25    Time step:     1\n",
      " \n",
      " Run end date and time (yyyy/mm/dd hh:mm:ss): 2025/07/29 22:12:26\n",
      " Elapsed run time:  0.157 Seconds\n",
      " \n",
      " Normal termination of simulation.\n"
     ]
    }
   ],
   "source": [
    "# write and run the simulation\n",
    "\n",
    "sim.write_simulation()\n",
    "success, buff = sim.run_simulation()\n",
    "if not success:\n",
    "    raise Exception(\"MODFLOW 6 did not terminate normally.\")"
   ]
  }
 ],
 "metadata": {
  "kernelspec": {
   "display_name": "Python 3 (ipykernel)",
   "language": "python",
   "name": "python3"
  },
  "language_info": {
   "codemirror_mode": {
    "name": "ipython",
    "version": 3
   },
   "file_extension": ".py",
   "mimetype": "text/x-python",
   "name": "python",
   "nbconvert_exporter": "python",
   "pygments_lexer": "ipython3",
   "version": "3.13.5"
  }
 },
 "nbformat": 4,
 "nbformat_minor": 5
}
